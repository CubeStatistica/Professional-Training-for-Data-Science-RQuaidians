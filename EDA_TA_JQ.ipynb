{
 "cells": [
  {
   "attachments": {},
   "cell_type": "markdown",
   "metadata": {},
   "source": [
    "## Describe Functions."
   ]
  },
  {
   "cell_type": "code",
   "execution_count": 7,
   "metadata": {},
   "outputs": [],
   "source": [
    "import pandas as pd\n",
    "import matplotlib.pyplot as plt"
   ]
  },
  {
   "cell_type": "code",
   "execution_count": 3,
   "metadata": {},
   "outputs": [],
   "source": [
    "Course_Data = pd.read_csv(\"Data/Data - DS C1 Course.csv\")"
   ]
  },
  {
   "attachments": {},
   "cell_type": "markdown",
   "metadata": {},
   "source": [
    "### Show Column Names"
   ]
  },
  {
   "cell_type": "code",
   "execution_count": 4,
   "metadata": {},
   "outputs": [
    {
     "data": {
      "text/plain": [
       "['Timestamp',\n",
       " 'Student ID',\n",
       " 'Do you understand that this is a paid course ?',\n",
       " 'Course Fee Email',\n",
       " 'Date sent',\n",
       " 'Payment',\n",
       " 'Payment Receipt Sent',\n",
       " 'How and where did you hear about this course?',\n",
       " 'Which Country are you currently residing in?',\n",
       " 'Which City are you currently residing in?',\n",
       " 'Gender',\n",
       " 'Age',\n",
       " 'Are you currently attending University / College?',\n",
       " 'Latest Degree Completed or in Progress?',\n",
       " 'Name of University or College currently or previously attended?',\n",
       " 'Discipline of Degree?',\n",
       " 'Have you taken any foundational course in data science / econometrics / statistics / computer science?',\n",
       " 'What programming language(s) are you most comfortable in (R, Python, Java, JS, etc.)? If none please type \"None\". ',\n",
       " 'Prior Work Experience in Data Science or Machine Learning',\n",
       " 'Primary Reason for taking this course?',\n",
       " 'Do you understand that this is a paid course ?.1',\n",
       " 'Prior Formal Education (course teaching or using R, university assignments, coding projects, course work, etc.) in R?',\n",
       " 'Prior Formal Education (course teaching or using Python, university assignments, coding projects, course work, etc.) in Python?',\n",
       " 'Prior Work Experience in R.',\n",
       " 'Prior Work Experience in Python.',\n",
       " 'Personal Education or Knowledge (learning R on your own and/or doing personal projects, etc.) in R?',\n",
       " 'Personal Education or Knowledge (learning Python on your own and/or doing personal projects, etc.) in Python?',\n",
       " 'Do you have a LinkedIn Account?',\n",
       " 'Do you have any feedback, thoughts, or comments you would like to share?']"
      ]
     },
     "execution_count": 4,
     "metadata": {},
     "output_type": "execute_result"
    }
   ],
   "source": [
    "list(Course_Data.columns)"
   ]
  },
  {
   "attachments": {},
   "cell_type": "markdown",
   "metadata": {},
   "source": [
    "## Show unique vales of Age "
   ]
  },
  {
   "cell_type": "code",
   "execution_count": 9,
   "metadata": {},
   "outputs": [
    {
     "data": {
      "text/plain": [
       "22          47\n",
       "21          46\n",
       "23          42\n",
       "24          22\n",
       "20          20\n",
       "25          17\n",
       "26          12\n",
       "19           8\n",
       "27           6\n",
       "28           5\n",
       "33           3\n",
       "18           3\n",
       "37           3\n",
       "29           2\n",
       "31           2\n",
       "36           1\n",
       "48           1\n",
       "35           1\n",
       "32           1\n",
       "39           1\n",
       "30           1\n",
       "34           1\n",
       "40           1\n",
       "Under 17     1\n",
       "Name: Age, dtype: int64"
      ]
     },
     "execution_count": 9,
     "metadata": {},
     "output_type": "execute_result"
    }
   ],
   "source": [
    " Course_Data.Age.value_counts()\n"
   ]
  },
  {
   "attachments": {},
   "cell_type": "markdown",
   "metadata": {},
   "source": [
    "## Show top 6 unique values of Age"
   ]
  },
  {
   "cell_type": "code",
   "execution_count": 17,
   "metadata": {},
   "outputs": [
    {
     "data": {
      "text/html": [
       "<div>\n",
       "<style scoped>\n",
       "    .dataframe tbody tr th:only-of-type {\n",
       "        vertical-align: middle;\n",
       "    }\n",
       "\n",
       "    .dataframe tbody tr th {\n",
       "        vertical-align: top;\n",
       "    }\n",
       "\n",
       "    .dataframe thead th {\n",
       "        text-align: right;\n",
       "    }\n",
       "</style>\n",
       "<table border=\"1\" class=\"dataframe\">\n",
       "  <thead>\n",
       "    <tr style=\"text-align: right;\">\n",
       "      <th></th>\n",
       "      <th>Age</th>\n",
       "    </tr>\n",
       "  </thead>\n",
       "  <tbody>\n",
       "    <tr>\n",
       "      <th>22</th>\n",
       "      <td>47</td>\n",
       "    </tr>\n",
       "    <tr>\n",
       "      <th>21</th>\n",
       "      <td>46</td>\n",
       "    </tr>\n",
       "    <tr>\n",
       "      <th>23</th>\n",
       "      <td>42</td>\n",
       "    </tr>\n",
       "    <tr>\n",
       "      <th>24</th>\n",
       "      <td>22</td>\n",
       "    </tr>\n",
       "    <tr>\n",
       "      <th>20</th>\n",
       "      <td>20</td>\n",
       "    </tr>\n",
       "    <tr>\n",
       "      <th>25</th>\n",
       "      <td>17</td>\n",
       "    </tr>\n",
       "  </tbody>\n",
       "</table>\n",
       "</div>"
      ],
      "text/plain": [
       "    Age\n",
       "22   47\n",
       "21   46\n",
       "23   42\n",
       "24   22\n",
       "20   20\n",
       "25   17"
      ]
     },
     "execution_count": 17,
     "metadata": {},
     "output_type": "execute_result"
    }
   ],
   "source": [
    "Top_6_Age = Course_Data.Age.value_counts().nlargest(6)\n"
   ]
  },
  {
   "cell_type": "code",
   "execution_count": 16,
   "metadata": {},
   "outputs": [
    {
     "data": {
      "text/plain": [
       "['Age']"
      ]
     },
     "execution_count": 16,
     "metadata": {},
     "output_type": "execute_result"
    }
   ],
   "source": [
    "list(Top_6_Age.columns)\n"
   ]
  },
  {
   "attachments": {},
   "cell_type": "markdown",
   "metadata": {},
   "source": [
    "### Bar chart of Age"
   ]
  },
  {
   "cell_type": "code",
   "execution_count": 19,
   "metadata": {},
   "outputs": [
    {
     "data": {
      "image/png": "[encoded data removed]",
      "text/plain": [
       "<Figure size 432x288 with 1 Axes>"
      ]
     },
     "metadata": {
      "needs_background": "light"
     },
     "output_type": "display_data"
    }
   ],
   "source": [
    "Top_6_Age = Course_Data.Age.value_counts().nlargest(6).plot(kind='bar')\n"
   ]
  }
 ],
 "metadata": {
  "kernelspec": {
   "display_name": "Python 3",
   "language": "python",
   "name": "python3"
  },
  "language_info": {
   "codemirror_mode": {
    "name": "ipython",
    "version": 3
   },
   "file_extension": ".py",
   "mimetype": "text/x-python",
   "name": "python",
   "nbconvert_exporter": "python",
   "pygments_lexer": "ipython3",
   "version": "3.8.10"
  },
  "orig_nbformat": 4,
  "vscode": {
   "interpreter": {
    "hash": "0f8883b2b9a4664b380784e1a81e7d87ba4b864106cfa9d6b54f0473cdd38418"
   }
  }
 },
 "nbformat": 4,
 "nbformat_minor": 2
}
